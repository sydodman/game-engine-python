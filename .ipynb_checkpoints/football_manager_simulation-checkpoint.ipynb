{
 "cells": [
  {
   "cell_type": "markdown",
   "metadata": {},
   "source": [
    "# Football Manager Simulation\n",
    "\n",
    "This notebook guides you through the process of simulating a football season, including both league and cup competitions. The simulation is broken down into distinct steps that can be run independently.\n",
    "\n",
    "## Overview\n",
    "\n",
    "1. **Data Preparation**: Load fixtures and team data\n",
    "2. **Generate Future Fixtures**: Create fixtures for a future season\n",
    "3. **Generate Team Attributes**: Create attributes for all teams\n",
    "4. **Simulate League Matches**: Run the league simulation\n",
    "5. **Simulate Cup Competitions**: Run the FA Cup and League Cup simulations\n",
    "6. **Analyze Results**: View league tables and cup progressions\n",
    "\n",
    "Let's start by importing the necessary modules."
   ]
  },
  {
   "cell_type": "code",
   "execution_count": null,
   "metadata": {},
   "source": [
    "import pandas as pd\n",
    "import numpy as np\n",
    "import os\n",
    "import sys\n",
    "from datetime import datetime\n",
    "import matplotlib.pyplot as plt\n",
    "\n",
    "# Add the Completed directory to the path\n",
    "sys.path.insert(0, os.path.join(os.path.dirname(os.getcwd()), 'Completed'))\n",
    "\n",
    "# Import utility functions\n",
    "from utils import (\n",
    "    load_fixtures, load_team_attributes, load_team_names,\n",
    "    check_for_duplicates, print_league_table, track_cup_progression,\n",
    "    count_matches_by_round, print_match_counts\n",
    ")\n",
    "\n",
    "# Import modules from Completed directory\n",
    "from Completed.cup_manager import simulate_cup_competition, print_cup_results\n",
    "from Completed.league_manager import simulate_league_competition, print_league_table as print_league\n",
    "from Completed.match_engine import simulate_match\n",
    "from Completed.team_attributes import create_team_attributes\n",
    "from Completed.newSeason import generate_future_fixtures\n",
    "\n",
    "# Create output directory if it doesn't exist\n",
    "os.makedirs('output', exist_ok=True)"
   ]
  },
  {
   "cell_type": "markdown",
   "metadata": {},
   "source": [
    "## 1. Data Preparation\n",
    "\n",
    "First, let's check if we have the necessary data files."
   ]
  },
  {
   "cell_type": "code",
   "execution_count": null,
   "metadata": {},
   "source": [
    "# Check if the base fixtures file exists\n",
    "fixtures_file = \"output/fixtures.csv\"\n",
    "teams_file = \"output/teams.csv\"\n",
    "\n",
    "if os.path.exists(fixtures_file):\n",
    "    print(f\"✓ Base fixtures file found: {fixtures_file}\")\n",
    "else:\n",
    "    print(f\"✗ Base fixtures file not found: {fixtures_file}\")\n",
    "    \n",
    "if os.path.exists(teams_file):\n",
    "    print(f\"✓ Teams file found: {teams_file}\")\n",
    "else:\n",
    "    print(f\"✗ Teams file not found: {teams_file}\")\n",
    "\n",
    "# List any existing future fixtures files\n",
    "future_fixtures = [f for f in os.listdir('output') if f.startswith('fixtures_') and f.endswith('.csv')]\n",
    "if future_fixtures:\n",
    "    print(\"\\nExisting future fixtures files:\")\n",
    "    for f in future_fixtures:\n",
    "        print(f\"  - {f}\")\n",
    "else:\n",
    "    print(\"\\nNo future fixtures files found.\")"
   ]
  },
  {
   "cell_type": "markdown",
   "metadata": {},
   "source": [
    "## 2. Generate Future Fixtures\n",
    "\n",
    "Now let's generate fixtures for a future season. You can specify the start year for the season."
   ]
  },
  {
   "cell_type": "code",
   "execution_count": null,
   "metadata": {},
   "source": [
    "# Set the start year for the new season\n",
    "start_year = 2024  # Change this to the desired year\n",
    "\n",
    "# Set file paths\n",
    "fixtures_file = \"output/fixtures.csv\"\n",
    "output_file = f\"output/fixtures_{start_year}_{start_year+1}.csv\"\n",
    "\n",
    "# Check if fixtures.csv exists\n",
    "if not os.path.exists(fixtures_file):\n",
    "    print(f\"Error: {fixtures_file} not found. Please ensure the original fixtures file exists.\")\n",
    "else:\n",
    "    # Generate future fixtures\n",
    "    fixtures_df = generate_future_fixtures(fixtures_file, start_year)\n",
    "    \n",
    "    # Save the fixtures\n",
    "    print(f\"Saving fixtures to {output_file}...\")\n",
    "    fixtures_df.to_csv(output_file, index=False)\n",
    "    \n",
    "    print(f\"Successfully generated fixtures for the {start_year}-{start_year+1} season!\")\n",
    "    \n",
    "    # Print some statistics\n",
    "    total_fixtures = len(fixtures_df)\n",
    "    competitions = fixtures_df['competition'].unique()\n",
    "    \n",
    "    print(f\"\\nTotal fixtures: {total_fixtures}\")\n",
    "    print(f\"Competitions: {', '.join(competitions)}\")\n",
    "    \n",
    "    # Count fixtures by competition\n",
    "    print(\"\\nFixtures by competition:\")\n",
    "    for comp in competitions:\n",
    "        comp_count = len(fixtures_df[fixtures_df['competition'] == comp])\n",
    "        print(f\"  {comp}: {comp_count} fixtures\")"
   ]
  },
  {
   "cell_type": "markdown",
   "metadata": {},
   "source": [
    "### Check FA Cup Structure\n",
    "\n",
    "Let's examine the FA Cup rounds to ensure they are structured correctly."
   ]
  },
  {
   "cell_type": "code",
   "execution_count": null,
   "metadata": {},
   "source": [
    "# Load the generated fixtures\n",
    "fixtures_df = pd.read_csv(output_file)\n",
    "\n",
    "# Check FA Cup rounds\n",
    "if 'FA Cup' in fixtures_df['competition'].unique():\n",
    "    fa_cup = fixtures_df[fixtures_df['competition'] == 'FA Cup']\n",
    "    fa_cup_rounds = fa_cup['round'].unique()\n",
    "    print(f\"FA Cup rounds: {len(fa_cup_rounds)}\")\n",
    "    \n",
    "    # Print rounds with their order\n",
    "    fa_cup_round_orders = fa_cup.drop_duplicates(['round', 'round_order'])[['round', 'round_order']].sort_values('round_order')\n",
    "    print(\"\\nFA Cup rounds with their order values:\")\n",
    "    for _, row in fa_cup_round_orders.iterrows():\n",
    "        print(f\"  {row['round']}: {int(row['round_order'])}\")\n",
    "        \n",
    "    # Count matches in each round\n",
    "    print(\"\\nMatches per round:\")\n",
    "    for round_name in fa_cup_round_orders['round']:\n",
    "        round_matches = fa_cup[fa_cup['round'] == round_name]\n",
    "        print(f\"  {round_name}: {len(round_matches)} matches\")\n",
    "else:\n",
    "    print(\"FA Cup not found in the fixtures.\")"
   ]
  },
  {
   "cell_type": "markdown",
   "metadata": {},
   "source": [
    "## 3. Generate Team Attributes\n",
    "\n",
    "Now let's generate attributes for all teams in the simulation."
   ]
  },
  {
   "cell_type": "code",
   "execution_count": null,
   "metadata": {},
   "source": [
    "# Set file paths\n",
    "teams_file = \"output/teams.csv\"\n",
    "team_attributes_file = \"output/team_attributes.csv\"\n",
    "\n",
    "# Check if teams.csv exists\n",
    "if not os.path.exists(teams_file):\n",
    "    print(f\"Error: {teams_file} not found. Please ensure the teams file exists.\")\n",
    "else:\n",
    "    # Generate team attributes\n",
    "    team_attrs_df = create_team_attributes(teams_file, team_attributes_file)\n",
    "    \n",
    "    print(f\"Successfully generated attributes for {len(team_attrs_df)} teams!\")\n",
    "    \n",
    "    # Print some statistics\n",
    "    print(\"\\nAttribute Statistics:\")\n",
    "    print(f\"Defense - Min: {team_attrs_df['defense'].min()}, Max: {team_attrs_df['defense'].max()}, Avg: {team_attrs_df['defense'].mean():.2f}\")\n",
    "    print(f\"Midfield - Min: {team_attrs_df['midfield'].min()}, Max: {team_attrs_df['midfield'].max()}, Avg: {team_attrs_df['midfield'].mean():.2f}\")\n",
    "    print(f\"Attack - Min: {team_attrs_df['attack'].min()}, Max: {team_attrs_df['attack'].max()}, Avg: {team_attrs_df['attack'].mean():.2f}\")"
   ]
  },
  {
   "cell_type": "markdown",
   "metadata": {},
   "source": [
    "### Visualize Team Attributes\n",
    "\n",
    "Let's create a visualization of team attributes by league."
   ]
  },
  {
   "cell_type": "code",
   "execution_count": null,
   "metadata": {},
   "source": [
    "# Load team attributes\n",
    "team_attrs_df = pd.read_csv(team_attributes_file)\n",
    "\n",
    "# Group by league and calculate average attributes\n",
    "league_attrs = team_attrs_df.groupby('league')[['defense', 'midfield', 'attack']].mean().reset_index()\n",
    "\n",
    "# Sort by average attribute value\n",
    "league_attrs['avg_attr'] = league_attrs[['defense', 'midfield', 'attack']].mean(axis=1)\n",
    "league_attrs = league_attrs.sort_values('avg_attr', ascending=False)\n",
    "\n",
    "# Plot\n",
    "plt.figure(figsize=(12, 8))\n",
    "\n",
    "# Only include top 6 leagues for clarity\n",
    "top_leagues = league_attrs.head(6)\n",
    "\n",
    "x = np.arange(len(top_leagues))\n",
    "width = 0.25\n",
    "\n",
    "plt.bar(x - width, top_leagues['defense'], width, label='Defense')\n",
    "plt.bar(x, top_leagues['midfield'], width, label='Midfield')\n",
    "plt.bar(x + width, top_leagues['attack'], width, label='Attack')\n",
    "\n",
    "plt.xlabel('League')\n",
    "plt.ylabel('Average Attribute Value')\n",
    "plt.title('Average Team Attributes by League')\n",
    "plt.xticks(x, top_leagues['league'], rotation=45, ha='right')\n",
    "plt.legend()\n",
    "plt.tight_layout()\n",
    "plt.show()"
   ]
  },
  {
   "cell_type": "markdown",
   "metadata": {},
   "source": [
    "## 4. Simulate League Matches\n",
    "\n",
    "Now let's simulate all league matches for the season."
   ]
  },
  {
   "cell_type": "code",
   "execution_count": null,
   "metadata": {},
   "source": [
    "# Set file paths for the season to simulate\n",
    "fixtures_file = f\"output/fixtures_{start_year}_{start_year+1}.csv\"\n",
    "output_file = f\"output/simulated_fixtures_{start_year}_{start_year+1}.csv\"\n",
    "team_attributes_file = \"output/team_attributes.csv\"\n",
    "\n",
    "# Load fixtures and team attributes\n",
    "fixtures_df = load_fixtures(fixtures_file)\n",
    "team_attrs = load_team_attributes(team_attributes_file)\n",
    "\n",
    "# Simulate Premier League\n",
    "print(\"\\nSimulating Premier League...\")\n",
    "fixtures_df = simulate_league_competition(fixtures_df, 'Premier League', team_attrs)\n",
    "\n",
    "# Save the partially simulated fixtures\n",
    "print(f\"\\nSaving league simulation results to {output_file}...\")\n",
    "fixtures_df.to_csv(output_file, index=False)\n",
    "\n",
    "print(\"League simulation complete!\")"
   ]
  },
  {
   "cell_type": "markdown",
   "metadata": {},
   "source": [
    "### View League Table\n",
    "\n",
    "Let's view the Premier League table after simulating all matches."
   ]
  },
  {
   "cell_type": "code",
   "execution_count": null,
   "metadata": {},
   "source": [
    "# Load the simulated fixtures\n",
    "fixtures_df = load_fixtures(output_file)\n",
    "\n",
    "# Load team names\n",
    "team_names = load_team_names(\"output/teams.csv\")\n",
    "\n",
    "# Print Premier League table\n",
    "league_table = print_league_table(fixtures_df, 'Premier League', team_names)"
   ]
  },
  {
   "cell_type": "markdown",
   "metadata": {},
   "source": [
    "## 5. Simulate Cup Competitions\n",
    "\n",
    "Now let's simulate the FA Cup and League Cup competitions."
   ]
  },
  {
   "cell_type": "code",
   "execution_count": null,
   "metadata": {},
   "source": [
    "# Load the partially simulated fixtures\n",
    "fixtures_df = load_fixtures(output_file)\n",
    "\n",
    "# Simulate FA Cup\n",
    "print(\"\\nSimulating FA Cup...\")\n",
    "fixtures_df = simulate_cup_competition(fixtures_df, 'FA Cup', team_attrs)\n",
    "\n",
    "# Save the updated fixtures\n",
    "print(f\"\\nSaving FA Cup simulation results to {output_file}...\")\n",
    "fixtures_df.to_csv(output_file, index=False)\n",
    "\n",
    "print(\"FA Cup simulation complete!\")"
   ]
  },
  {
   "cell_type": "markdown",
   "metadata": {},
   "source": [
    "### Check FA Cup Results\n",
    "\n",
    "Let's check if all FA Cup matches have been properly simulated."
   ]
  },
  {
   "cell_type": "code",
   "execution_count": null,
   "metadata": {},
   "source": [
    "# Load the simulated fixtures\n",
    "fixtures_df = load_fixtures(output_file)\n",
    "\n",
    "# Check for duplicate teams in the FA Cup\n",
    "has_duplicates = check_for_duplicates(fixtures_df, 'FA Cup')\n",
    "\n",
    "if has_duplicates:\n",
    "    print(\"\\n⚠️ WARNING: Duplicate teams found in the FA Cup!\")\n",
    "else:\n",
    "    print(\"\\n✓ No duplicate teams found in the FA Cup.\")\n",
    "\n",
    "# Check match counts by round\n",
    "print_match_counts(fixtures_df, 'FA Cup')"
   ]
  },
  {
   "cell_type": "markdown",
   "metadata": {},
   "source": [
    "### Simulate League Cup"
   ]
  },
  {
   "cell_type": "code",
   "execution_count": null,
   "metadata": {},
   "source": [
    "# Load the partially simulated fixtures\n",
    "fixtures_df = load_fixtures(output_file)\n",
    "\n",
    "# Simulate League Cup\n",
    "print(\"\\nSimulating League Cup...\")\n",
    "fixtures_df = simulate_cup_competition(fixtures_df, 'League Cup', team_attrs)\n",
    "\n",
    "# Save the updated fixtures\n",
    "print(f\"\\nSaving League Cup simulation results to {output_file}...\")\n",
    "fixtures_df.to_csv(output_file, index=False)\n",
    "\n",
    "print(\"League Cup simulation complete!\")"
   ]
  },
  {
   "cell_type": "markdown",
   "metadata": {},
   "source": [
    "### Check League Cup Results"
   ]
  },
  {
   "cell_type": "code",
   "execution_count": null,
   "metadata": {},
   "source": [
    "# Load the simulated fixtures\n",
    "fixtures_df = load_fixtures(output_file)\n",
    "\n",
    "# Check for duplicate teams in the League Cup\n",
    "has_duplicates = check_for_duplicates(fixtures_df, 'League Cup')\n",
    "\n",
    "if has_duplicates:\n",
    "    print(\"\\n⚠️ WARNING: Duplicate teams found in the League Cup!\")\n",
    "else:\n",
    "    print(\"\\n✓ No duplicate teams found in the League Cup.\")\n",
    "\n",
    "# Check match counts by round\n",
    "print_match_counts(fixtures_df, 'League Cup')"
   ]
  },
  {
   "cell_type": "markdown",
   "metadata": {},
   "source": [
    "## 6. Analyze Results\n",
    "\n",
    "Now let's analyze the results of the full season simulation."
   ]
  },
  {
   "cell_type": "code",
   "execution_count": null,
   "metadata": {},
   "source": [
    "# Load the fully simulated fixtures\n",
    "fixtures_df = load_fixtures(output_file)\n",
    "\n",
    "# Load team names\n",
    "team_names = load_team_names(\"output/teams.csv\")\n",
    "\n",
    "# Print Premier League table\n",
    "league_table = print_league_table(fixtures_df, 'Premier League', team_names)\n",
    "\n",
    "# Track FA Cup progression\n",
    "fa_cup_winner = track_cup_progression(fixtures_df, 'FA Cup', team_names)\n",
    "\n",
    "# Track League Cup progression\n",
    "league_cup_winner = track_cup_progression(fixtures_df, 'League Cup', team_names)"
   ]
  },
  {
   "cell_type": "markdown",
   "metadata": {},
   "source": [
    "### Visualize League Table\n",
    "\n",
    "Let's create a visualization of the Premier League table."
   ]
  },
  {
   "cell_type": "code",
   "execution_count": null,
   "metadata": {},
   "source": [
    "# Get the top 10 teams\n",
    "top_teams = league_table.head(10).copy()\n",
    "\n",
    "# Add team names\n",
    "top_teams['team_name'] = top_teams['team'].apply(lambda x: team_names.get(x, f\"Team {int(x)}\"))\n",
    "\n",
    "# Create the plot\n",
    "plt.figure(figsize=(12, 8))\n",
    "plt.bar(top_teams['team_name'], top_teams['points'], color='blue')\n",
    "plt.xlabel('Team')\n",
    "plt.ylabel('Points')\n",
    "plt.title('Premier League Top 10 Teams')\n",
    "plt.xticks(rotation=45, ha='right')\n",
    "plt.tight_layout()\n",
    "plt.show()"
   ]
  },
  {
   "cell_type": "markdown",
   "metadata": {},
   "source": [
    "### Summary of Season Results\n",
    "\n",
    "Let's create a summary of the season results."
   ]
  },
  {
   "cell_type": "code",
   "execution_count": null,
   "metadata": {},
   "source": [
    "# Get the champions\n",
    "premier_league_champion = league_table.iloc[0]['team']\n",
    "premier_league_champion_name = team_names.get(premier_league_champion, f\"Team {int(premier_league_champion)}\")\n",
    "\n",
    "# Get the relegated teams\n",
    "relegated_teams = league_table.tail(3)['team'].tolist()\n",
    "relegated_team_names = [team_names.get(team, f\"Team {int(team)}\") for team in relegated_teams]\n",
    "\n",
    "# Get the cup winners\n",
    "fa_cup_winner_name = team_names.get(fa_cup_winner, \"Unknown\") if fa_cup_winner else \"Unknown\"\n",
    "league_cup_winner_name = team_names.get(league_cup_winner, \"Unknown\") if league_cup_winner else \"Unknown\"\n",
    "\n",
    "print(f\"\\n{start_year}-{start_year+1} Season Summary\")\n",
    "print(\"=\" * 50)\n",
    "print(f\"Premier League Champion: {premier_league_champion_name}\")\n",
    "print(f\"FA Cup Winner: {fa_cup_winner_name}\")\n",
    "print(f\"League Cup Winner: {league_cup_winner_name}\")\n",
    "print(\"\\nRelegated Teams:\")\n",
    "for team in relegated_team_names:\n",
    "    print(f\"  - {team}\")\n",
    "\n",
    "# Check for double/treble winners\n",
    "if premier_league_champion == fa_cup_winner and premier_league_champion == league_cup_winner:\n",
    "    print(f\"\\n🏆 {premier_league_champion_name} won the TREBLE!\")\n",
    "elif premier_league_champion == fa_cup_winner:\n",
    "    print(f\"\\n🏆 {premier_league_champion_name} won the DOUBLE (Premier League and FA Cup)!\")\n",
    "elif premier_league_champion == league_cup_winner:\n",
    "    print(f\"\\n🏆 {premier_league_champion_name} won the DOUBLE (Premier League and League Cup)!\")\n",
    "elif fa_cup_winner == league_cup_winner and fa_cup_winner is not None:\n",
    "    print(f\"\\n🏆 {fa_cup_winner_name} won both cup competitions!\")"
   ]
  }
 ],
 "metadata": {
  "kernelspec": {
   "display_name": "Python 3",
   "language": "python",
   "name": "python3"
  },
  "language_info": {
   "codemirror_mode": {
    "name": "ipython",
    "version": 3
   },
   "file_extension": ".py",
   "mimetype": "text/x-python",
   "name": "python",
   "nbconvert_exporter": "python",
   "pygments_lexer": "ipython3",
   "version": "3.8.5"
  }
 },
 "nbformat": 4,
 "nbformat_minor": 4
}
